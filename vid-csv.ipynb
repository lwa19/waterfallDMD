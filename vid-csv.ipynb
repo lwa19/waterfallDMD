{
 "cells": [
  {
   "cell_type": "code",
   "execution_count": 1,
   "metadata": {},
   "outputs": [],
   "source": [
    "from PIL import Image ## pip install pillow\n",
    "import numpy as np\n",
    "import csv, gzip\n",
    "import subprocess\n",
    "from pathlib import Path"
   ]
  },
  {
   "cell_type": "code",
   "execution_count": null,
   "metadata": {},
   "outputs": [],
   "source": [
    "## 1. vid2csv\n",
    "\n",
    "vid_dir = Path('waterfall-dir')\n",
    "\n",
    "vid_dir.mkdir(exist_ok=True)\n",
    "if not (vid_dir/'1.png').exists():\n",
    "    subprocess.run(f'ffmpeg -i waterfall.apng.png {vid_dir}/%d.png'.split())\n",
    "\n",
    "def get_img_paths_in_dir(dirpath):\n",
    "    return sorted(Path(dirpath).iterdir(), key=lambda p:int(p.name.split('.')[0]))\n",
    "\n",
    "def get_pixelvec_for_path(path):\n",
    "    im = Image.open(path)\n",
    "    return np.array(im.convert('L').getdata())\n",
    "\n",
    "pixelvecs = [list(get_pixelvec_for_path(p)) for p in get_img_paths_in_dir(vid_dir)]\n",
    "\n",
    "with gzip.open('waterfall.csv', 'wt') as f:\n",
    "    writer = csv.writer(f)\n",
    "    writer.writerows(pixelvecs)"
   ]
  }
 ],
 "metadata": {
  "kernelspec": {
   "display_name": "Python 3",
   "language": "python",
   "name": "python3"
  },
  "language_info": {
   "codemirror_mode": {
    "name": "ipython",
    "version": 3
   },
   "file_extension": ".py",
   "mimetype": "text/x-python",
   "name": "python",
   "nbconvert_exporter": "python",
   "pygments_lexer": "ipython3",
   "version": "3.9.9"
  }
 },
 "nbformat": 4,
 "nbformat_minor": 2
}
