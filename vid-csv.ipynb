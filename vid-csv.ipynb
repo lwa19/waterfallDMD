{
 "cells": [
  {
   "cell_type": "code",
   "execution_count": 15,
   "metadata": {},
   "outputs": [],
   "source": [
    "# Maybe: use square videos with power-of-2 size, so we don't have to think about resolution?"
   ]
  },
  {
   "cell_type": "code",
   "execution_count": 57,
   "metadata": {},
   "outputs": [],
   "source": [
    "from PIL import Image ## pip install pillow\n",
    "import numpy as np\n",
    "import csv, gzip, shutil, re\n",
    "import subprocess\n",
    "from pathlib import Path\n",
    "\n",
    "tmp_dir = Path('tmp-dir')\n",
    "def clean_tmp_dir():\n",
    "    tmp_dir.mkdir(exist_ok=True)\n",
    "    for p in tmp_dir.iterdir(): p.unlink()\n"
   ]
  },
  {
   "cell_type": "code",
   "execution_count": 41,
   "metadata": {},
   "outputs": [],
   "source": [
    "## vid2csv\n",
    "\n",
    "clean_tmp_dir()\n",
    "subprocess.run(f'ffmpeg -i waterfall.apng.png -vf scale=iw/8:ih/8 {tmp_dir}/%d.png'.split())\n",
    "if not (tmp_dir/'1.png').exists(): raise Exception(\"ffmpeg failes!\")\n",
    "\n",
    "img_paths = sorted(tmp_dir.iterdir(), key=lambda p:int(p.name.split('.')[0]))\n",
    "vid_size_str = 'x'.join(map(str,Image.open(img_paths[0]).size))\n",
    "    \n",
    "def get_pixelvec_for_path(path): return np.array(Image.open(path).convert('L').getdata())\n",
    "pixelvecs = [list(get_pixelvec_for_path(p)) for p in img_paths]\n",
    "\n",
    "csv_path = f'waterfall-{vid_size_str}.csv.gz'\n",
    "with gzip.open(csv_path, 'wt', compresslevel=5) as f:\n",
    "    writer = csv.writer(f)\n",
    "    writer.writerows(pixelvecs)"
   ]
  },
  {
   "cell_type": "code",
   "execution_count": 99,
   "metadata": {},
   "outputs": [
    {
     "name": "stdout",
     "output_type": "stream",
     "text": [
      "vid_size=[117, 66]\n",
      "pixelmat.shape=(380, 7722)\n"
     ]
    },
    {
     "data": {
      "image/png": "[encoded data removed]",
      "text/plain": [
       "<PIL.Image.Image image mode=L size=117x66 at 0x10C5C0700>"
      ]
     },
     "execution_count": 99,
     "metadata": {},
     "output_type": "execute_result"
    }
   ],
   "source": [
    "## csv2vid\n",
    "clean_tmp_dir()\n",
    "\n",
    "# 1. parse size\n",
    "csv_path = max(Path().glob('waterfall-*.csv.gz'), key=lambda p:p.stat().st_mtime)  # newest!\n",
    "vid_size = [int(d) for d in re.match(r'.*-([0-9]+)x([0-9]+)\\.csv\\.gz', str(csv_path)).groups()]\n",
    "print(f'{vid_size=}')\n",
    "\n",
    "# 2. get first row, reshape as np matrix, turn into image.\n",
    "pixelmat = np.genfromtxt(csv_path,delimiter=',',dtype=np.int16)  # Does it need to be float?  Should I round it?\n",
    "print(f'{pixelmat.shape=}')\n",
    "\n",
    "# 3. dump it into tmp_dir/1.png\n",
    "for i in \n",
    "im = Image.fromarray(pixelmat[0,].reshape((66,117)).astype(np.uint8))\n",
    "im\n",
    "\n",
    "# 4. ffmpeg the images into an mp4 (ffmpeg -y -r 30 -i tmp-dir/%d.png -vf fps=30 -s 116x66 -vcodec libx264 -pix_fmt yuv420p out.mp4)\n",
    "\n"
   ]
  }
 ],
 "metadata": {
  "kernelspec": {
   "display_name": "Python 3",
   "language": "python",
   "name": "python3"
  },
  "language_info": {
   "codemirror_mode": {
    "name": "ipython",
    "version": 3
   },
   "file_extension": ".py",
   "mimetype": "text/x-python",
   "name": "python",
   "nbconvert_exporter": "python",
   "pygments_lexer": "ipython3",
   "version": "3.9.9"
  }
 },
 "nbformat": 4,
 "nbformat_minor": 2
}
