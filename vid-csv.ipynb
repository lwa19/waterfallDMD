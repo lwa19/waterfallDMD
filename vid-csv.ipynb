{
 "cells": [
  {
   "cell_type": "code",
   "execution_count": 2,
   "metadata": {},
   "outputs": [],
   "source": [
    "from PIL import Image ## pip install pillow\n",
    "import numpy as np\n",
    "import csv, gzip, shutil, re\n",
    "import subprocess\n",
    "from pathlib import Path\n",
    "\n",
    "tmp_dir = Path('tmp-dir')\n",
    "def clean_tmp_dir():\n",
    "    tmp_dir.mkdir(exist_ok=True)\n",
    "    for p in tmp_dir.iterdir(): p.unlink()\n"
   ]
  },
  {
   "cell_type": "code",
   "execution_count": 48,
   "metadata": {},
   "outputs": [],
   "source": [
    "## vid2csv\n",
    "\n",
    "scale_down_factor = 4\n",
    "\n",
    "clean_tmp_dir()\n",
    "subprocess.run(f'ffmpeg -i waterfall.apng.png -vf scale=iw/{scale_down_factor}:ih/{scale_down_factor} {tmp_dir}/%d.png'.split())\n",
    "if not (tmp_dir/'1.png').exists(): raise Exception(\"ffmpeg failes!\")\n",
    "\n",
    "img_paths = sorted(tmp_dir.iterdir(), key=lambda p:int(p.name.split('.')[0]))\n",
    "vid_size_str = 'x'.join(map(str,Image.open(img_paths[0]).size))\n",
    "    \n",
    "def get_pixelvec_for_path(path): return np.array(Image.open(path).convert('L').getdata())\n",
    "pixelvecs = [list(get_pixelvec_for_path(p)) for p in img_paths]\n",
    "\n",
    "csv_path = f'waterfall-{vid_size_str}.csv.gz'\n",
    "with gzip.open(csv_path, 'wt', compresslevel=5) as f:\n",
    "    writer = csv.writer(f)\n",
    "    writer.writerows(pixelvecs)"
   ]
  },
  {
   "cell_type": "code",
   "execution_count": 47,
   "metadata": {},
   "outputs": [],
   "source": [
    "## Note: I had to remove the colnames and rownames from `waterfall_471x265_rank5.csv.gz`.\n",
    "## I used this command:\n",
    "## zcat waterfall_265x471_rank5.csv.gz | sed 's_^\"[0-9]*\",__' | sed -E 's_\\.[0-9]+__g' | tail -n +2 | gzip -3 > waterfall-471x265-rank5.csv.gz\n"
   ]
  },
  {
   "cell_type": "code",
   "execution_count": 52,
   "metadata": {},
   "outputs": [
    {
     "name": "stdout",
     "output_type": "stream",
     "text": [
      "235x132\n",
      "range = 0 245\n",
      "pixelmat.shape=(380, 31020)\n",
      "234x132\n"
     ]
    },
    {
     "data": {
      "text/plain": [
       "CompletedProcess(args=['ffmpeg', '-y', '-r', '30', '-i', 'tmp-dir/%d.png', '-vf', 'fps=30', '-vcodec', 'libx264', '-pix_fmt', 'yuv420p', 'waterfall-235x132.csv.gz.mp4'], returncode=0)"
      ]
     },
     "execution_count": 52,
     "metadata": {},
     "output_type": "execute_result"
    }
   ],
   "source": [
    "## csv2vid\n",
    "\n",
    "# Parse size\n",
    "csv_path = max(Path().glob('waterfall*.csv.gz'), key=lambda p:p.stat().st_mtime)  # newest!\n",
    "vid_width, vid_height = [int(d) for d in re.match(r'.*[_-]([0-9]+)x([0-9]+)[-_\\.]', str(csv_path)).groups()]\n",
    "print(f'{vid_width}x{vid_height}')\n",
    "\n",
    "# Get first row, reshape as np matrix, turn into image.\n",
    "pixelmat = np.genfromtxt(csv_path,delimiter=',',dtype=np.int16)  # Does it need to be float?  Should I round it?\n",
    "print(f'range =', pixelmat.min(), pixelmat.max())\n",
    "pixelmat = pixelmat.clip(min=0,max=255)\n",
    "print(f'{pixelmat.shape=}')\n",
    "\n",
    "# Compute a new even width & height, because mp4\n",
    "width = vid_width // 2 * 2\n",
    "height = vid_height // 2 * 2\n",
    "\n",
    "# Save frames into tmp_dir/#.png\n",
    "clean_tmp_dir()\n",
    "for frame in range(pixelmat.shape[0]):\n",
    "    im = Image.fromarray(pixelmat[frame,].reshape((vid_height,vid_width)).astype(np.uint8))\n",
    "    im = im.crop((0,0,width,height))\n",
    "    if frame == 0: print(f'{width}x{height}')\n",
    "    im.save(tmp_dir / f'{frame}.png')\n",
    "\n",
    "# Join the frames into an mp4\n",
    "subprocess.run(f'ffmpeg -y -hide_banner -r 30 -i {tmp_dir}/%d.png -vf fps=30 -vcodec libx264 -pix_fmt yuv420p {csv_path}.mp4'.split())\n"
   ]
  }
 ],
 "metadata": {
  "kernelspec": {
   "display_name": "Python 3",
   "language": "python",
   "name": "python3"
  },
  "language_info": {
   "codemirror_mode": {
    "name": "ipython",
    "version": 3
   },
   "file_extension": ".py",
   "mimetype": "text/x-python",
   "name": "python",
   "nbconvert_exporter": "python",
   "pygments_lexer": "ipython3",
   "version": "3.9.9"
  }
 },
 "nbformat": 4,
 "nbformat_minor": 2
}
