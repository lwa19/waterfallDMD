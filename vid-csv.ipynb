{
 "cells": [
  {
   "cell_type": "code",
   "execution_count": null,
   "metadata": {},
   "outputs": [],
   "source": [
    "from PIL import Image ## pip install pillow\n",
    "import numpy as np\n",
    "import csv\n",
    "import subprocess\n",
    "from pathlib import Path"
   ]
  },
  {
   "cell_type": "code",
   "execution_count": null,
   "metadata": {},
   "outputs": [],
   "source": [
    "## 1. vid2csv\n",
    "\n",
    "## !ffmpeg -i vid.mp4 vid-dir/%d.png\n",
    "\n",
    "def get_paths_in_dir(dirpath):\n",
    "    return sorted(Path(dirpath).iterdir(), key=lambda p:int(p.name.split('.')[0]))\n",
    "\n",
    "def get_pixelvec_for_path(path):\n",
    "    im = Image.open(path)\n",
    "    return np.array(im.convert('L').getdata())\n",
    "\n",
    "pixelvecs = [list(get_pixelvec_for_path(p)) for p in get_paths_in_dir('waterfall-dir')]\n",
    "\n"
   ]
  },
  {
   "cell_type": "code",
   "execution_count": null,
   "metadata": {},
   "outputs": [],
   "source": [
    "with open('waterfall.csv', 'w') as f:\n",
    "    writer = csv.writer(f)\n",
    "    "
   ]
  }
 ],
 "metadata": {
  "kernelspec": {
   "display_name": "Python 3",
   "language": "python",
   "name": "python3"
  },
  "language_info": {
   "codemirror_mode": {
    "name": "ipython",
    "version": 3
   },
   "file_extension": ".py",
   "mimetype": "text/x-python",
   "name": "python",
   "nbconvert_exporter": "python",
   "pygments_lexer": "ipython3",
   "version": "3.9.9"
  }
 },
 "nbformat": 4,
 "nbformat_minor": 2
}
